{
 "cells": [
  {
   "cell_type": "code",
   "execution_count": 1,
   "id": "afa840ed-42bc-4aac-8226-f024307d66ce",
   "metadata": {},
   "outputs": [],
   "source": [
    "import os\n",
    "from dotenv import load_dotenv, find_dotenv\n"
   ]
  },
  {
   "cell_type": "code",
   "execution_count": 2,
   "id": "4a0fb05a-0c51-494f-bb68-4ecfc6b50722",
   "metadata": {},
   "outputs": [
    {
     "data": {
      "text/plain": [
       "True"
      ]
     },
     "execution_count": 2,
     "metadata": {},
     "output_type": "execute_result"
    }
   ],
   "source": [
    "load_dotenv('.env')"
   ]
  },
  {
   "cell_type": "code",
   "execution_count": 3,
   "id": "e7b66663-7988-4481-8b12-c77f9e10e748",
   "metadata": {},
   "outputs": [],
   "source": [
    "OPENAI_KEY = os.environ['OPENAI_API_KEY']"
   ]
  },
  {
   "cell_type": "code",
   "execution_count": 4,
   "id": "2dd7a0e5-1c92-4dd6-b363-ab387567aeb8",
   "metadata": {},
   "outputs": [],
   "source": [
    "%%capture\n",
    "!pip install tree-sitter==0.21.3\n",
    "!pip install tree-sitter_languages"
   ]
  },
  {
   "cell_type": "code",
   "execution_count": 5,
   "id": "68464b6c-f7ff-4db4-9770-47b04b0d59cb",
   "metadata": {},
   "outputs": [],
   "source": [
    "import warnings\n",
    "warnings.filterwarnings(\"ignore\")"
   ]
  },
  {
   "cell_type": "markdown",
   "id": "649e5e0f-6fe9-43c8-98a6-2361180a2f1d",
   "metadata": {},
   "source": [
    "### Creating Nodes Manually"
   ]
  },
  {
   "cell_type": "code",
   "execution_count": 6,
   "id": "6c094094-1870-46f4-9aea-2b811d0e1216",
   "metadata": {},
   "outputs": [],
   "source": [
    "from llama_index.core import Document\n",
    "from llama_index.core.schema import TextNode, NodeRelationship\n",
    "\n",
    "doc = Document(text=\"This is a simple document text. This is another document.\")"
   ]
  },
  {
   "cell_type": "code",
   "execution_count": 7,
   "id": "1058f438-175b-494c-be5c-29e991e9b7dd",
   "metadata": {},
   "outputs": [
    {
     "data": {
      "text/plain": [
       "{}"
      ]
     },
     "execution_count": 7,
     "metadata": {},
     "output_type": "execute_result"
    }
   ],
   "source": [
    "doc.metadata"
   ]
  },
  {
   "cell_type": "code",
   "execution_count": 8,
   "id": "3d0a3794-36ca-4dd8-bbe4-de4975fd7d92",
   "metadata": {},
   "outputs": [
    {
     "data": {
      "text/plain": [
       "'3b6e3acf-52f4-4c08-9bcb-2dfc557d9841'"
      ]
     },
     "execution_count": 8,
     "metadata": {},
     "output_type": "execute_result"
    }
   ],
   "source": [
    "doc.doc_id"
   ]
  },
  {
   "cell_type": "code",
   "execution_count": 9,
   "id": "f99a9e71-4292-442c-a495-04218b4a9f3a",
   "metadata": {},
   "outputs": [
    {
     "data": {
      "text/plain": [
       "Document(id_='3b6e3acf-52f4-4c08-9bcb-2dfc557d9841', embedding=None, metadata={}, excluded_embed_metadata_keys=[], excluded_llm_metadata_keys=[], relationships={}, metadata_template='{key}: {value}', metadata_separator='\\n', text_resource=MediaResource(embeddings=None, data=None, text='This is a simple document text', path=None, url=None, mimetype=None), image_resource=None, audio_resource=None, video_resource=None, text_template='{metadata_str}\\n\\n{content}')"
      ]
     },
     "execution_count": 9,
     "metadata": {},
     "output_type": "execute_result"
    }
   ],
   "source": [
    "doc"
   ]
  },
  {
   "cell_type": "code",
   "execution_count": 10,
   "id": "46d10468-2332-4033-abee-c7d61213a4b3",
   "metadata": {},
   "outputs": [
    {
     "data": {
      "text/plain": [
       "{'id_': '3b6e3acf-52f4-4c08-9bcb-2dfc557d9841',\n",
       " 'embedding': None,\n",
       " 'metadata': {},\n",
       " 'excluded_embed_metadata_keys': [],\n",
       " 'excluded_llm_metadata_keys': [],\n",
       " 'relationships': {},\n",
       " 'metadata_template': '{key}: {value}',\n",
       " 'metadata_separator': '\\n',\n",
       " 'text_resource': {'embeddings': None,\n",
       "  'text': 'This is a simple document text',\n",
       "  'path': None,\n",
       "  'url': None,\n",
       "  'mimetype': None},\n",
       " 'image_resource': None,\n",
       " 'audio_resource': None,\n",
       " 'video_resource': None,\n",
       " 'text_template': '{metadata_str}\\n\\n{content}',\n",
       " 'class_name': 'Document',\n",
       " 'text': 'This is a simple document text'}"
      ]
     },
     "execution_count": 10,
     "metadata": {},
     "output_type": "execute_result"
    }
   ],
   "source": [
    "doc.to_dict()"
   ]
  },
  {
   "cell_type": "code",
   "execution_count": 11,
   "id": "4321cee1-7cbb-44b3-ba58-fdae1d81d521",
   "metadata": {},
   "outputs": [],
   "source": [
    "doc.metadata = {'report_name': \"Competetion analysis report May 2024\",'department': \"Marketing\",'author':'Siva'}"
   ]
  },
  {
   "cell_type": "code",
   "execution_count": 12,
   "id": "3ea0035b-f275-4b95-9d7c-e1d9927ac232",
   "metadata": {},
   "outputs": [
    {
     "data": {
      "text/plain": [
       "{'id_': '3b6e3acf-52f4-4c08-9bcb-2dfc557d9841',\n",
       " 'embedding': None,\n",
       " 'metadata': {'report_name': 'Competetion analysis report May 2024',\n",
       "  'department': 'Marketing',\n",
       "  'author': 'Siva'},\n",
       " 'excluded_embed_metadata_keys': [],\n",
       " 'excluded_llm_metadata_keys': [],\n",
       " 'relationships': {},\n",
       " 'metadata_template': '{key}: {value}',\n",
       " 'metadata_separator': '\\n',\n",
       " 'text_resource': {'embeddings': None,\n",
       "  'text': 'This is a simple document text',\n",
       "  'path': None,\n",
       "  'url': None,\n",
       "  'mimetype': None},\n",
       " 'image_resource': None,\n",
       " 'audio_resource': None,\n",
       " 'video_resource': None,\n",
       " 'text_template': '{metadata_str}\\n\\n{content}',\n",
       " 'class_name': 'Document',\n",
       " 'text': 'This is a simple document text'}"
      ]
     },
     "execution_count": 12,
     "metadata": {},
     "output_type": "execute_result"
    }
   ],
   "source": [
    "doc.to_dict()"
   ]
  },
  {
   "cell_type": "markdown",
   "id": "2b5c0179-adfa-416f-9bcf-caab2d411729",
   "metadata": {},
   "source": [
    "#### Lets createa two nodes manually from doc "
   ]
  },
  {
   "cell_type": "code",
   "execution_count": 14,
   "id": "b7656752-f52f-46d0-9cb6-a3959eb7289b",
   "metadata": {},
   "outputs": [],
   "source": [
    "n1 = TextNode(text=\"first sentence\", node_id=doc.doc_id)\n",
    "n2 = TextNode(text=\"second sentence\", node_id=doc.doc_id)"
   ]
  },
  {
   "cell_type": "code",
   "execution_count": 15,
   "id": "2d717234-0684-44ee-b3c9-a9aaec12c49d",
   "metadata": {},
   "outputs": [
    {
     "data": {
      "text/plain": [
       "'first sentence'"
      ]
     },
     "execution_count": 15,
     "metadata": {},
     "output_type": "execute_result"
    }
   ],
   "source": [
    "n1.text"
   ]
  },
  {
   "cell_type": "code",
   "execution_count": 16,
   "id": "f3e53849-86fb-4772-a996-866e48557401",
   "metadata": {},
   "outputs": [
    {
     "data": {
      "text/plain": [
       "{'id_': 'b23bbc32-9a86-414e-b151-199621b3c1de',\n",
       " 'embedding': None,\n",
       " 'metadata': {},\n",
       " 'excluded_embed_metadata_keys': [],\n",
       " 'excluded_llm_metadata_keys': [],\n",
       " 'relationships': {},\n",
       " 'metadata_template': '{key}: {value}',\n",
       " 'metadata_separator': '\\n',\n",
       " 'text': 'first sentence',\n",
       " 'mimetype': 'text/plain',\n",
       " 'start_char_idx': None,\n",
       " 'end_char_idx': None,\n",
       " 'metadata_seperator': '\\n',\n",
       " 'text_template': '{metadata_str}\\n\\n{content}',\n",
       " 'class_name': 'TextNode'}"
      ]
     },
     "execution_count": 16,
     "metadata": {},
     "output_type": "execute_result"
    }
   ],
   "source": [
    "n1.dict()"
   ]
  },
  {
   "cell_type": "code",
   "execution_count": 20,
   "id": "609a87ac-dc2e-45c8-9350-abaaf3f379af",
   "metadata": {},
   "outputs": [],
   "source": [
    "# specifying the rel between nodes\n",
    "n1.relationships[NodeRelationship.NEXT] = n2.node_id\n",
    "n2.relationships[NodeRelationship.PREVIOUS] = n1.node_id"
   ]
  },
  {
   "cell_type": "code",
   "execution_count": 21,
   "id": "60e9b0b1-6300-4abc-8452-806795da8261",
   "metadata": {},
   "outputs": [
    {
     "name": "stdout",
     "output_type": "stream",
     "text": [
      "{<NodeRelationship.NEXT: '3'>: '8fc339ee-9caf-4f97-94ec-a4b54e9a122d'}\n",
      "{<NodeRelationship.PREVIOUS: '2'>: 'b23bbc32-9a86-414e-b151-199621b3c1de'}\n"
     ]
    }
   ],
   "source": [
    "print(n1.relationships)\n",
    "print(n2.relationships)"
   ]
  },
  {
   "cell_type": "code",
   "execution_count": null,
   "id": "08f44184-2cd2-443e-a1d0-257bf56c8499",
   "metadata": {},
   "outputs": [],
   "source": []
  },
  {
   "cell_type": "code",
   "execution_count": null,
   "id": "4e64b149-0fe4-4e9d-ab7f-1f32bb4f13ff",
   "metadata": {},
   "outputs": [],
   "source": []
  },
  {
   "cell_type": "markdown",
   "id": "5ecfced0-4311-48ee-b312-53660d70e316",
   "metadata": {},
   "source": [
    "### File-Based Node Parsers\n",
    "#### HTML Parser"
   ]
  },
  {
   "cell_type": "code",
   "execution_count": 7,
   "id": "65aea39c-260e-4110-8bb2-2f07af2a11c9",
   "metadata": {},
   "outputs": [],
   "source": [
    "import requests\n",
    "from llama_index.core.node_parser import HTMLNodeParser"
   ]
  },
  {
   "cell_type": "code",
   "execution_count": 8,
   "id": "672721d2-eb9c-484b-ae3a-1802f594cc60",
   "metadata": {},
   "outputs": [
    {
     "name": "stdout",
     "output_type": "stream",
     "text": [
      "<Response [200]>\n"
     ]
    }
   ],
   "source": [
    "# ok lets fetch an HTML form\n",
    "url = \"https://docs.llamaindex.ai/en/stable\"\n",
    "\n",
    "# send a get request to the url\n",
    "response = requests.get(url)\n",
    "print(response)"
   ]
  },
  {
   "cell_type": "code",
   "execution_count": 9,
   "id": "dbbd1001-6bb0-4646-89ed-9d3eac4b127d",
   "metadata": {},
   "outputs": [],
   "source": [
    "# check if request was successful\n",
    "if response.status_code == 200:\n",
    "    # extract the html content from the response\n",
    "    html_doc = response.text\n",
    "\n",
    "    #create a document object with the HTML content\n",
    "    html_document = Document(id_=url, text=html_doc)\n",
    "\n",
    "    # Initialize the HTMLNodeParser with optional list of tags\n",
    "    parser = HTMLNodeParser()\n",
    "\n",
    "    # Parse nodes from HTML Document\n",
    "    nodes = parser.get_nodes_from_documents([html_document])\n",
    "else:\n",
    "    # Print an error message\n",
    "    print(\"Failes to fetch the content\")"
   ]
  },
  {
   "cell_type": "code",
   "execution_count": 10,
   "id": "01c7e433-3149-4f20-b4d4-bbc1ba1845ed",
   "metadata": {},
   "outputs": [
    {
     "data": {
      "text/plain": [
       "48"
      ]
     },
     "execution_count": 10,
     "metadata": {},
     "output_type": "execute_result"
    }
   ],
   "source": [
    "len(nodes)"
   ]
  },
  {
   "cell_type": "code",
   "execution_count": 11,
   "id": "7df19e8f-42aa-4518-ae02-7bbd17033f1b",
   "metadata": {},
   "outputs": [
    {
     "data": {
      "text/plain": [
       "list"
      ]
     },
     "execution_count": 11,
     "metadata": {},
     "output_type": "execute_result"
    }
   ],
   "source": [
    "type(nodes)"
   ]
  },
  {
   "cell_type": "code",
   "execution_count": 14,
   "id": "301b909d-61b1-4f31-9de3-c07aada57796",
   "metadata": {},
   "outputs": [
    {
     "data": {
      "text/plain": [
       "{'id_': '05ecd76e-8d64-4dc8-941e-5df0ed320f96',\n",
       " 'embedding': None,\n",
       " 'metadata': {'tag': 'h1'},\n",
       " 'excluded_embed_metadata_keys': [],\n",
       " 'excluded_llm_metadata_keys': [],\n",
       " 'relationships': {'1': {'node_id': 'https://docs.llamaindex.ai/en/stable',\n",
       "   'node_type': '4',\n",
       "   'metadata': {},\n",
       "   'hash': '822c075f98cb5c260dd7775c7884c52f37b8faba5a79d458f9f777fb63a17977',\n",
       "   'class_name': 'RelatedNodeInfo'},\n",
       "  '2': {'node_id': 'bb8aa1ba-de15-45e7-bbe3-d95e2f4a7764',\n",
       "   'node_type': '1',\n",
       "   'metadata': {'tag': 'li'},\n",
       "   'hash': '8210dc70bd4f0aaf80b768534c5160b1c458969dc070e13a6f26ef6011a3bd63',\n",
       "   'class_name': 'RelatedNodeInfo'},\n",
       "  '3': {'node_id': '0d533cc9-2c0f-4a2f-844e-c15700425b52',\n",
       "   'node_type': '1',\n",
       "   'metadata': {'tag': 'p'},\n",
       "   'hash': '627729ad274386073ab3208436c5cb22815cbb175995ea0e6a581d7c5b1d3cf3',\n",
       "   'class_name': 'RelatedNodeInfo'}},\n",
       " 'metadata_template': '{key}: {value}',\n",
       " 'metadata_separator': '\\n',\n",
       " 'text': 'Welcome to LlamaIndex 🦙 !\\n#',\n",
       " 'mimetype': 'text/plain',\n",
       " 'start_char_idx': None,\n",
       " 'end_char_idx': None,\n",
       " 'metadata_seperator': '\\n',\n",
       " 'text_template': '{metadata_str}\\n\\n{content}',\n",
       " 'class_name': 'TextNode'}"
      ]
     },
     "execution_count": 14,
     "metadata": {},
     "output_type": "execute_result"
    }
   ],
   "source": [
    "nodes[1].dict()"
   ]
  },
  {
   "cell_type": "code",
   "execution_count": 15,
   "id": "4ca0a791-5d64-46e6-915e-9ec6fe132e49",
   "metadata": {},
   "outputs": [],
   "source": [
    "# lets customize our tags\n",
    "my_tags = [\"p\",\"span\"]\n",
    "html_parser = HTMLNodeParser(tags=my_tags)\n",
    "nodes = html_parser.get_nodes_from_documents([html_document])"
   ]
  },
  {
   "cell_type": "code",
   "execution_count": 16,
   "id": "676693b7-c033-4392-b952-a03f7fa20877",
   "metadata": {},
   "outputs": [
    {
     "name": "stdout",
     "output_type": "stream",
     "text": [
      "<span> elements:\n",
      "LlamaIndex\n",
      "LlamaIndex\n",
      "Home\n",
      "\n",
      "\n",
      "High-Level Concepts\n",
      "Installation and Setup\n",
      "How to read these docs\n",
      "Starter Examples\n",
      "\n",
      "Discover LlamaIndex Video Series\n",
      "Frequently Asked Questions (FAQ)\n",
      "Starter Tools\n",
      "\n",
      "Learn\n",
      "\n",
      "Use Cases\n",
      "\n",
      "Examples\n",
      "\n",
      "Component Guides\n",
      "\n",
      "Advanced Topics\n",
      "\n",
      "API Reference\n",
      "\n",
      "Open-Source Community\n",
      "\n",
      "LlamaCloud\n",
      "\n",
      "Introduction\n",
      "What are agents?\n",
      "What are workflows?\n",
      "What is context augmentation?\n",
      "LlamaIndex is the framework for Context-Augmented LLM Applications\n",
      "Use cases\n",
      "👨‍👩‍👧‍👦 Who is LlamaIndex for?\n",
      "Getting Started\n",
      "30 second quickstart\n",
      "LlamaCloud\n",
      "Community\n",
      "Getting the library\n",
      "Contributing\n",
      "LlamaIndex Ecosystem\n",
      "Introduction\n",
      "Use cases\n",
      "Getting started\n",
      "LlamaCloud\n",
      "Community\n",
      "Related projects\n",
      "\n",
      "from\n",
      "llama_index.core\n",
      "import\n",
      "VectorStoreIndex\n",
      ",\n",
      "SimpleDirectoryReader\n",
      "documents\n",
      "=\n",
      "SimpleDirectoryReader\n",
      "(\n",
      "\"data\"\n",
      ")\n",
      ".\n",
      "load_data\n",
      "()\n",
      "index\n",
      "=\n",
      "VectorStoreIndex\n",
      ".\n",
      "from_documents\n",
      "(\n",
      "documents\n",
      ")\n",
      "query_engine\n",
      "=\n",
      "index\n",
      ".\n",
      "as_query_engine\n",
      "()\n",
      "response\n",
      "=\n",
      "query_engine\n",
      ".\n",
      "query\n",
      "(\n",
      "\"Some question about the data should go here\"\n",
      ")\n",
      "print\n",
      "(\n",
      "response\n",
      ")\n",
      "Next\n"
     ]
    }
   ],
   "source": [
    "print('<span> elements:')\n",
    "for node in nodes:\n",
    "    if node.metadata['tag']=='span':\n",
    "        print(node.text)"
   ]
  },
  {
   "cell_type": "code",
   "execution_count": 17,
   "id": "5d8a9613-faaf-4b80-af1a-46eab6f56be9",
   "metadata": {},
   "outputs": [
    {
     "name": "stdout",
     "output_type": "stream",
     "text": [
      "<p> elements:\n",
      "LlamaIndex is the leading framework for building LLM-powered agents over your data with\n",
      "LLMs\n",
      "and\n",
      "workflows\n",
      ".\n",
      "What is context augmentation? What are agents and workflows? How does LlamaIndex help build them?\n",
      "What kind of apps can you build with LlamaIndex? Who should use it?\n",
      "Get started in Python or TypeScript in just 5 lines of code!\n",
      "Managed services for LlamaIndex including\n",
      "LlamaParse\n",
      ", the world's best document parser.\n",
      "Get help and meet collaborators on Discord, Twitter, LinkedIn, and learn how to contribute to the project.\n",
      "Check out our library of connectors, readers, and other integrations at\n",
      "LlamaHub\n",
      "as well as demos and starter apps like\n",
      "create-llama\n",
      ".\n",
      "Agents\n",
      "are LLM-powered knowledge assistants that use tools to perform tasks like research, data extraction, and more. Agents range from simple question-answering to being able to sense, decide and take actions in order to complete tasks.\n",
      "LlamaIndex provides a framework for building agents including the ability to use RAG pipelines as one of many tools to complete a task.\n",
      "Workflows\n",
      "are multi-step processes that combine one or more agents, data connectors, and other tools to complete a task. They are event-driven software that allows you to combine RAG data sources and multiple agents to create a complex application that can perform a wide variety of tasks with reflection, error-correction, and other hallmarks of advanced LLM applications. You can then\n",
      "deploy these agentic workflows\n",
      "as production microservices.\n",
      "LLMs offer a natural language interface between humans and data. LLMs come pre-trained on huge amounts of publicly available data, but they are not trained on\n",
      "your\n",
      "data. Your data may be private or specific to the problem you're trying to solve. It's behind APIs, in SQL databases, or trapped in PDFs and slide decks.\n",
      "Context augmentation makes your data available to the LLM to solve the problem at hand. LlamaIndex provides the tools to build any of context-augmentation use case, from prototype to production. Our tools allow you to ingest, parse, index and process your data and quickly implement complex query workflows combining data access with LLM prompting.\n",
      "The most popular example of context-augmentation is\n",
      "Retrieval-Augmented Generation or RAG\n",
      ", which combines context with LLMs at inference time.\n",
      "LlamaIndex imposes no restriction on how you use LLMs. You can use LLMs as auto-complete, chatbots, agents, and more. It just makes using them easier. We provide tools like:\n",
      "Some popular use cases for LlamaIndex and context augmentation in general include:\n",
      "Check out our\n",
      "use cases\n",
      "documentation for more examples and links to tutorials.\n",
      "LlamaIndex provides tools for beginners, advanced users, and everyone in between.\n",
      "Our high-level API allows beginner users to use LlamaIndex to ingest and query their data in 5 lines of code.\n",
      "For more complex applications, our lower-level APIs allow advanced users to customize and extend any module -- data connectors, indices, retrievers, query engines, and reranking modules -- to fit their needs.\n",
      "LlamaIndex is available in Python (these docs) and\n",
      "Typescript\n",
      ". If you're not sure where to start, we recommend reading\n",
      "how to read these docs\n",
      "which will point you to the right place based on your experience level.\n",
      "Set an environment variable called\n",
      "OPENAI_API_KEY\n",
      "with an\n",
      "OpenAI API key\n",
      ". Install the Python library:\n",
      "Put some documents in a folder called\n",
      "data\n",
      ", then ask questions about them with our famous 5-line starter:\n",
      "If any part of this trips you up, don't worry! Check out our more comprehensive starter tutorials using\n",
      "remote APIs like OpenAI\n",
      "or\n",
      "any model that runs on your laptop\n",
      ".\n",
      "If you're an enterprise developer, check out\n",
      "LlamaCloud\n",
      ". It is an end-to-end managed service for document parsing, extraction, indexing, and retrieval - allowing you to get production-quality data for your AI agent. You can\n",
      "sign up\n",
      "and get 10,000 free credits per month, sign up for one of our\n",
      "plans\n",
      ", or\n",
      "come talk to us\n",
      "if you're interested in an enterprise solution. We offer both SaaS and self-hosted plans.\n",
      "You can also check out the\n",
      "LlamaCloud documentation\n",
      "for more details.\n",
      "Need help? Have a feature suggestion? Join the LlamaIndex community:\n",
      "We are open-source and always welcome contributions to the project! Check out our\n",
      "contributing guide\n",
      "for full details on how to extend the core library or add an integration to a third party like an LLM, a vector store, an agent tool and more.\n",
      "There's more to the LlamaIndex universe! Check out some of our other projects:\n"
     ]
    }
   ],
   "source": [
    "print('<p> elements:')\n",
    "for node in nodes:\n",
    "    if node.metadata['tag'] == 'p':\n",
    "        print(node.text)"
   ]
  },
  {
   "cell_type": "code",
   "execution_count": null,
   "id": "718b592f-0fe4-4743-a24b-4c106465ee8c",
   "metadata": {},
   "outputs": [],
   "source": []
  }
 ],
 "metadata": {
  "kernelspec": {
   "display_name": "Python 3 (ipykernel)",
   "language": "python",
   "name": "python3"
  },
  "language_info": {
   "codemirror_mode": {
    "name": "ipython",
    "version": 3
   },
   "file_extension": ".py",
   "mimetype": "text/x-python",
   "name": "python",
   "nbconvert_exporter": "python",
   "pygments_lexer": "ipython3",
   "version": "3.13.2"
  }
 },
 "nbformat": 4,
 "nbformat_minor": 5
}
